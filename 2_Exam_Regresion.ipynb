{
 "cells": [
  {
   "cell_type": "markdown",
   "metadata": {},
   "source": [
    "<h1 style=\"text-align: center;\"> Evaluación Módulo II: Predicción del precio inmobiliario.  </h1>\n",
    "<p align=\"center\">\n",
    "  <img src=\"https://cdn.prod.website-files.com/649475f4d573d5d9d1522659/649475f4d573d5d9d1522705_logo-track-ciencia.webp\" alt=\"Logo Track Ciencia\">\n",
    "</p>\n",
    "\n",
    "**Contexto del caso**\n",
    "\n",
    "El caso de uso trata sobre un conjunto de datos recolectados y proporcionados por el Institut Louis Bachelier (ILB) sobre el real estate en Francia en donde el objetivo se centra en una tarea de regresión para poder predecir costos estimados inmobiliarios.\n",
    "\n",
    "**Objetivos de la evaluación**\n",
    "\n",
    "- Realizar la limpieza, exploración y pre-procesamiento necesarios de los datos.\n",
    "- Utilizar el 75% de los datos como conjunto de entrenamiento y el 25% como conjunto de validación.\n",
    "- Elegir y justificar un modelo regresión adecuado al problema y a las evidencias analíticas \n",
    "- Realizar un resumen ejecutivo de nos más de dos parrafos incluyendo la interpretación y evaluación de los resultados.\n",
    "\n",
    "***Nota: En el reto original se nos da datos con imagenes, estas se pueden omitir (No descartar para futuras pruebas con estos datos).***"
   ]
  },
  {
   "cell_type": "markdown",
   "metadata": {},
   "source": []
  }
 ],
 "metadata": {
  "language_info": {
   "name": "python"
  }
 },
 "nbformat": 4,
 "nbformat_minor": 2
}
